{
 "cells": [
  {
   "cell_type": "markdown",
   "metadata": {},
   "source": [
    "# 01. British Museum Search "
   ]
  },
  {
   "cell_type": "code",
   "execution_count": 1,
   "metadata": {},
   "outputs": [],
   "source": [
    "bms={\"S\":[\"A\",\"B\"],\n",
    "     \"A\":[\"S\",\"B\"],\n",
    "     \"B\":[\"A\",\"C\"],\n",
    "     \"C\":[\"B\",\"E\"],\n",
    "     \"D\":[\"A\",\"G\"],\n",
    "     \"E\":[],\n",
    "     \"G\":[]\n",
    "    \n",
    "}"
   ]
  },
  {
   "cell_type": "code",
   "execution_count": 3,
   "metadata": {},
   "outputs": [
    {
     "data": {
      "text/plain": [
       "['A', 'C']"
      ]
     },
     "execution_count": 3,
     "metadata": {},
     "output_type": "execute_result"
    }
   ],
   "source": [
    "# Find adjucent list of a node say B\n",
    "bms[\"B\"]"
   ]
  },
  {
   "cell_type": "code",
   "execution_count": 4,
   "metadata": {},
   "outputs": [],
   "source": [
    "# Add new edge to tree \n",
    "# Suppose new edge created from  E to G \n",
    "bms[\"E\"].append(\"G\")\n",
    "bms[\"G\"].append(\"E\")"
   ]
  },
  {
   "cell_type": "code",
   "execution_count": 5,
   "metadata": {},
   "outputs": [
    {
     "data": {
      "text/plain": [
       "{'S': ['A', 'B'],\n",
       " 'A': ['S', 'B'],\n",
       " 'B': ['A', 'C'],\n",
       " 'C': ['B', 'E'],\n",
       " 'D': ['A', 'G'],\n",
       " 'E': ['G'],\n",
       " 'G': ['E']}"
      ]
     },
     "execution_count": 5,
     "metadata": {},
     "output_type": "execute_result"
    }
   ],
   "source": [
    "# print tree structure\n",
    "bms"
   ]
  },
  {
   "cell_type": "markdown",
   "metadata": {},
   "source": [
    "### Create a tree using a class "
   ]
  },
  {
   "cell_type": "code",
   "execution_count": 6,
   "metadata": {},
   "outputs": [],
   "source": [
    "bms={\"S\":[],\n",
    "     \"A\":[],\n",
    "     \"B\":[],\n",
    "     \"C\":[],\n",
    "     \"D\":[],\n",
    "     \"E\":[],\n",
    "     \"G\":[]\n",
    "    \n",
    "}"
   ]
  },
  {
   "cell_type": "code",
   "execution_count": 7,
   "metadata": {},
   "outputs": [],
   "source": [
    "all_edges=[(\"S\",\"A\"), (\"S\",\"B\"),(\"A\",\"B\"),(\"B\",\"C\"),(\"C\",\"E\"),(\"A\",\"D\"),(\"D\",\"G\")]"
   ]
  },
  {
   "cell_type": "code",
   "execution_count": 52,
   "metadata": {},
   "outputs": [],
   "source": [
    "class Graph:\n",
    "    def __init__(self,Nodes):\n",
    "        self.nodes=Nodes\n",
    "        self.bms={}\n",
    "        \n",
    "        for node in self.nodes:\n",
    "            self.bms[node]=[]\n",
    "    \n",
    "    def add_edge(self,u,v):\n",
    "        self.bms[u].append(v)\n",
    "        self.bms[v].append(u)\n",
    "        \n",
    "    def print_bms(self):\n",
    "        for node in self.nodes:\n",
    "            print(node, \"->\",self.bms[node])\n",
    "        "
   ]
  },
  {
   "cell_type": "code",
   "execution_count": 53,
   "metadata": {},
   "outputs": [
    {
     "name": "stdout",
     "output_type": "stream",
     "text": [
      "S -> ['A', 'B']\n",
      "A -> ['S', 'B', 'D']\n",
      "B -> ['S', 'A', 'C']\n",
      "C -> ['B', 'E']\n",
      "D -> ['A', 'G']\n",
      "E -> ['C']\n",
      "G -> ['D']\n"
     ]
    }
   ],
   "source": [
    "nodes= [\"S\",\"A\",\"B\",\"C\",\"D\",\"E\",\"G\"]\n",
    "graph = Graph(nodes)\n",
    "\n",
    "for u,v in all_edges:\n",
    "    graph.add_edge(u,v)\n",
    "    \n",
    "graph.print_bms()"
   ]
  },
  {
   "cell_type": "code",
   "execution_count": null,
   "metadata": {},
   "outputs": [],
   "source": []
  }
 ],
 "metadata": {
  "kernelspec": {
   "display_name": "Python 3",
   "language": "python",
   "name": "python3"
  },
  "language_info": {
   "codemirror_mode": {
    "name": "ipython",
    "version": 3
   },
   "file_extension": ".py",
   "mimetype": "text/x-python",
   "name": "python",
   "nbconvert_exporter": "python",
   "pygments_lexer": "ipython3",
   "version": "3.8.3"
  },
  "toc": {
   "base_numbering": 1,
   "nav_menu": {},
   "number_sections": false,
   "sideBar": true,
   "skip_h1_title": false,
   "title_cell": "Table of Contents",
   "title_sidebar": "Contents",
   "toc_cell": false,
   "toc_position": {},
   "toc_section_display": true,
   "toc_window_display": false
  }
 },
 "nbformat": 4,
 "nbformat_minor": 4
}
